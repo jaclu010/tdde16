{
 "cells": [
  {
   "cell_type": "markdown",
   "metadata": {},
   "source": [
    "# Lab 1: Information Retrieval"
   ]
  },
  {
   "cell_type": "markdown",
   "metadata": {},
   "source": [
    "__Students:__ Sebastian Callh sebca553, Jacob Lundberg jaclu010"
   ]
  },
  {
   "cell_type": "markdown",
   "metadata": {},
   "source": [
    "### Crawling\n",
    "The corpus for this assignment will be at least 1000 Google Play app descriptions. To acquire those we crawl all the categories for their presented app urls, and then those app urls for their description. First off let's import used packages."
   ]
  },
  {
   "cell_type": "code",
   "execution_count": 21,
   "metadata": {},
   "outputs": [],
   "source": [
    "import numpy as np\n",
    "from sklearn.metrics.pairwise import cosine_similarity\n",
    "import urllib.request\n",
    "import nltk\n",
    "import pickle\n",
    "from functools import reduce\n",
    "from itertools import chain\n",
    "from nltk.stem.snowball import SnowballStemmer\n",
    "import re\n",
    "import os"
   ]
  },
  {
   "cell_type": "markdown",
   "metadata": {},
   "source": [
    "To scrape the urls we use `urllib` and `re` with the helper functions defined below."
   ]
  },
  {
   "cell_type": "code",
   "execution_count": 22,
   "metadata": {},
   "outputs": [],
   "source": [
    "catreg = r'<a class=\\\"child-submenu-link\\\" href=\\\"(/store/apps/category/.*?)\\\" title=\\\".*?\\\" jsl=\\\"\\$x 5;\\\" jsan=\\\"7.child-submenu-link,8.href,0.title\\\">.*?<\\/a>'\n",
    "catre = re.compile(catreg)\n",
    "appreg = r'href=\\\"(/store/apps/details.*?)\\\"'\n",
    "appre = re.compile(appreg)\n",
    "\n",
    "play_url = 'https://play.google.com'\n",
    "def scrape_cat_urls(url):\n",
    "    mkdwn = urllib.request.urlopen(url).read().decode('utf-8')\n",
    "    return re.findall(catre, mkdwn)\n",
    "\n",
    "def scrape_app_urls(cat_url):\n",
    "    mkdwn = urllib.request.urlopen(play_url + cat_url).read().decode('utf-8')\n",
    "    return re.findall(appre, mkdwn)\n"
   ]
  },
  {
   "cell_type": "markdown",
   "metadata": {},
   "source": [
    "To fill the quota of 1000 descriptions, some additional links are added."
   ]
  },
  {
   "cell_type": "code",
   "execution_count": 23,
   "metadata": {},
   "outputs": [
    {
     "data": {
      "text/plain": [
       "1177"
      ]
     },
     "execution_count": 23,
     "metadata": {},
     "output_type": "execute_result"
    }
   ],
   "source": [
    "cat_urls = scrape_cat_urls(play_url + '/store/apps')\n",
    "cat_urls.append('/store/search?q=poop&c=apps')\n",
    "cat_urls.append('/store/apps/new')\n",
    "cat_urls.append('/store/apps/top')\n",
    "app_urls = set(reduce(lambda lst, url: lst + scrape_app_urls(url), cat_urls, []))\n",
    "len(app_urls)"
   ]
  },
  {
   "cell_type": "markdown",
   "metadata": {},
   "source": [
    "When scraping all the chosen pages we are well above the requirement, so we can now scrape the actual app descriptions (together with the app names). The descriptions are stored in a pickle file to avoid re-scraping the web pages."
   ]
  },
  {
   "cell_type": "code",
   "execution_count": 6,
   "metadata": {},
   "outputs": [],
   "source": [
    "desc = r'itemprop=\\\"description.*?\\\">.*?<div jsname=\\\".*?\\\">(.*?)</div>'\n",
    "name = r'itemprop=\\\"name\\\" content=\\\"(.*?)\\\"\\/>'\n",
    "app_desc_re = re.compile(desc)\n",
    "app_name_re = re.compile(name)\n",
    "\n",
    "def scrape_app(app_url):\n",
    "    mkdwn = urllib.request.urlopen(play_url + app_url + '&hl=en').read().decode('utf-8')\n",
    "    desc = re.findall(app_desc_re, mkdwn)[0]\n",
    "    name = re.findall(app_name_re, mkdwn)[0]\n",
    "    return name, desc\n",
    "\n",
    "apps = [scrape_app(url) for url in app_urls]\n",
    "with open('app-descriptions.pkl', 'wb') as f:\n",
    "    pickle.dump(apps, f)"
   ]
  },
  {
   "cell_type": "markdown",
   "metadata": {},
   "source": [
    "### Tokenizing and tfidf representation\n",
    "With the corpus acquired, we can now creat ifidf representations for the descriptions. To do this we use the `TfidfVectorizer` from `sklearn` which constructs the vectors as needed, and also allows us to specify our own tokenizer function and stopword list."
   ]
  },
  {
   "cell_type": "code",
   "execution_count": 26,
   "metadata": {},
   "outputs": [
    {
     "name": "stdout",
     "output_type": "stream",
     "text": [
      "[nltk_data] Downloading package stopwords to ./nltk...\n",
      "[nltk_data]   Package stopwords is already up-to-date!\n"
     ]
    }
   ],
   "source": [
    "from sklearn.feature_extraction.text import TfidfVectorizer\n",
    "\n",
    "def load_stopwords():\n",
    "    nltk_path = './nltk'\n",
    "    if not os.path.exists(nltk_path):\n",
    "        os.makedirs(nltk_path)\n",
    "     \n",
    "    nltk.download('stopwords', download_dir=nltk_path)\n",
    "\n",
    "    custom_words =  ['br']\n",
    "    with open(nltk_path + '/corpora/stopwords/english') as f:\n",
    "        nltk_words = [x.strip() for x in f.readlines()]\n",
    "        \n",
    "    return custom_words + nltk_words\n",
    "    \n",
    "def tokenize(d): \n",
    "    stemmer = SnowballStemmer(\"english\", ignore_stopwords=True)\n",
    "    tokens = [s.lower() for s in nltk.word_tokenize(d) if s.isalpha()]\n",
    "    return [stemmer.stem(w) for w in tokens]\n",
    "\n",
    "\n",
    "with open('app-descriptions.pkl', 'rb') as f:\n",
    "    apps = pickle.load(f)\n",
    "    \n",
    "stopwords = load_stopwords()\n",
    "transvector = TfidfVectorizer(tokenizer=tokenize, stop_words=stopwords, analyzer = \"word\") # we need to think about where stopwords need to show up\n",
    "app_descrs = [app[1] for app in apps]\n",
    "vocab_matrix = transvector.fit_transform(app_descrs)\n"
   ]
  },
  {
   "cell_type": "markdown",
   "metadata": {},
   "source": [
    "### Query Process\n",
    "We can finally make queries against our corpus by using the transvector we fitted in the previous step to map the query into our vector space, and the cosine similarity."
   ]
  },
  {
   "cell_type": "code",
   "execution_count": 58,
   "metadata": {},
   "outputs": [],
   "source": [
    "def n_max(arr, n):\n",
    "    indices = arr.ravel().argsort()[-n:]\n",
    "    indices = (np.unravel_index(i, arr.shape) for i in indices)\n",
    "    return reversed([(arr[i], i[1]) for i in indices])\n",
    "\n",
    "def query(qstring, k):\n",
    "    q = transvector.transform([qstring])\n",
    "    res = cosine_similarity(q, vocab_matrix)\n",
    "    return n_max(res, k)\n",
    "\n",
    "def print_query_res(apps, res):\n",
    "    app_index = res[1]\n",
    "    app_sim = res[0]\n",
    "    print(\"ID:\", app_index, \" - \", apps[app_index][0], \" - Sim:\", app_sim)\n",
    "    print(apps[app_index][1][0:50], \"...\")\n",
    "    "
   ]
  },
  {
   "cell_type": "markdown",
   "metadata": {},
   "source": [
    "Querying \"Dragon, Control, hero, running\" and \"The hero controls the dragon to run.\" gives the exact same results, which is expected given that the tokenization process works as expected."
   ]
  },
  {
   "cell_type": "code",
   "execution_count": 61,
   "metadata": {
    "scrolled": true
   },
   "outputs": [
    {
     "name": "stdout",
     "output_type": "stream",
     "text": [
      "ID: 76  -  School of Dragons  - Dist: 0.4469180079438126\n",
      "Join Hiccup, Toothless, Astrid and the rest of the ...\n",
      "ID: 1246  -  Merge Dragons!  - Dist: 0.3653360600610415\n",
      "Discover dragon legends, magic, quests, and a secr ...\n",
      "ID: 872  -  Dragon Mania Legends  - Dist: 0.34055021729744117\n",
      "&quot;Dragon Mania Legends is for anyone that want ...\n",
      "ID: 566  -  Heroes of Warland - PvP Shooter Arena  - Dist: 0.3180317269817844\n",
      "Heroes of Warland is the most competitive online P ...\n",
      "ID: 988  -  Battle Arena: Heroes Adventure - Online RPG  - Dist: 0.3020582940150625\n",
      "Battle Arena: Heroes Adventure is an incredible mi ...\n",
      "---------------------------------------\n",
      "ID: 76  -  School of Dragons  - Dist: 0.4469180079438126\n",
      "Join Hiccup, Toothless, Astrid and the rest of the ...\n",
      "ID: 1246  -  Merge Dragons!  - Dist: 0.3653360600610415\n",
      "Discover dragon legends, magic, quests, and a secr ...\n",
      "ID: 872  -  Dragon Mania Legends  - Dist: 0.34055021729744117\n",
      "&quot;Dragon Mania Legends is for anyone that want ...\n",
      "ID: 566  -  Heroes of Warland - PvP Shooter Arena  - Dist: 0.3180317269817844\n",
      "Heroes of Warland is the most competitive online P ...\n",
      "ID: 988  -  Battle Arena: Heroes Adventure - Online RPG  - Dist: 0.3020582940150625\n",
      "Battle Arena: Heroes Adventure is an incredible mi ...\n"
     ]
    }
   ],
   "source": [
    "for qres in query(\"Dragon, Control, hero, running\", 5):\n",
    "    print_query_res(apps, qres)\n",
    "\n",
    "print(\"---------------------------------------\")\n",
    "\n",
    "for qres in query(\"The hero controls the dragon to run.\", 5):\n",
    "    print_query_res(apps, qres)"
   ]
  },
  {
   "cell_type": "markdown",
   "metadata": {},
   "source": [
    "Querying using the descripting on an app gives back the app with a similarity of 1.0, which is also to be expected."
   ]
  },
  {
   "cell_type": "code",
   "execution_count": 80,
   "metadata": {},
   "outputs": [
    {
     "name": "stdout",
     "output_type": "stream",
     "text": [
      "querying for  Traffic Racing - Extreme\n",
      "ID: 1082  -  Traffic Racing - Extreme  - Dist: 1.0000000000000002\n",
      "Traffic Racing-Extreme of car racing offline games ...\n",
      "ID: 444  -  Racing in Highway Car 2018: City Traffic Top Racer  - Dist: 0.802217211159529\n",
      "Drive car in highway traffic really challenging fo ...\n",
      "ID: 1105  -  Racing in Car 2  - Dist: 0.5473163896068399\n",
      "Sick of endless racing games with third person per ...\n",
      "ID: 666  -  Extreme Car Driving Simulator  - Dist: 0.49082883018284174\n",
      "Extreme Car Driving Simulator is the best car simu ...\n",
      "ID: 462  -  Idle Racing GO: Car Clicker &amp; Driving Simulator  - Dist: 0.48492239342029814\n",
      "Tap as fast as you can, collect cash and special c ...\n"
     ]
    }
   ],
   "source": [
    "app = apps[qres[1]]\n",
    "app_desc = app[1]\n",
    "print(\"querying for \", app[0])\n",
    "res = query(app_desc, 5)\n",
    "for r in res:\n",
    "    print_query_res(apps, r)"
   ]
  }
 ],
 "metadata": {
  "kernelspec": {
   "display_name": "Python 3",
   "language": "python",
   "name": "python3"
  },
  "language_info": {
   "codemirror_mode": {
    "name": "ipython",
    "version": 3
   },
   "file_extension": ".py",
   "mimetype": "text/x-python",
   "name": "python",
   "nbconvert_exporter": "python",
   "pygments_lexer": "ipython3",
   "version": "3.4.3"
  }
 },
 "nbformat": 4,
 "nbformat_minor": 2
}
