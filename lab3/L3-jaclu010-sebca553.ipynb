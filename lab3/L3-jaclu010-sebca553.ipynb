{
 "cells": [
  {
   "cell_type": "markdown",
   "metadata": {},
   "source": [
    "# L3: Topic Models\n",
    "### 732A92/TDDE16 Text Mining\n",
    "MÃ¥ns Magnusson"
   ]
  },
  {
   "cell_type": "markdown",
   "metadata": {},
   "source": [
    "The purpose of this lab is to implement the standard Gibbs sampling algorithm for Latent Dirichlet Allocation in Python. You will be supplied starter code, a smaller corpus with State of the Union addresses for the period 1975 to 2000 by paragraph and a list with English stop words. The code is implemented as a class, `LDAGibbs`, where you are expected to replace central parts of the code with your own implementations."
   ]
  },
  {
   "cell_type": "markdown",
   "metadata": {},
   "source": [
    "### 1. Sampling\n",
    "\n",
    "Implement the basic collapsed Gibbs sampling algorithm for Latent Dirichlet Allocation. Use the starter code and add the components that is missing (the sampler part). We use the fact that \n",
    "\n",
    "$$p(z_{i}=k)\\propto\\left(\\alpha+n_{d,k}^{(d)}\\right)\\frac{\\left(\\beta+n_{k,w_{i}}^{(w)}\\right)}{\\sum^{V}\\left(\\beta+n_{k,w_{i}}^{(w)}\\right)}=\\left(\\alpha+n_{d,k}^{(d)}\\right)\\frac{\\left(\\beta+n_{k,w_{i}}^{(w)}\\right)}{V\\beta+n_{k}}$$\n",
    "\n",
    "to simplify computations, where $K$ is the number of topics, $V$ is the vocabulary size and $D$ is the number of documents. $\\mathbf{n}^{(d)}$ is a count matrix of size $D\\times K$ with the number of topic indicators by document, $d$, and topic $k$, $\\mathbf{n}^{(w)}$ is a count matrix of size $K\\times V$ with the number of topic indicators by topic, $k$, and word type, $w$. $\\mathbf{n}$ is a topic indicator count vector of length $K$ that contain the number of topic indicators in each topic. The detailed algorithm can be found below:"
   ]
  },
  {
   "cell_type": "markdown",
   "metadata": {},
   "source": [
    "__Data:__ tokenized corpus $\\mathbf{w}$, priors $\\alpha, \\beta$ <br>\n",
    "__Result:__ topic indicators $\\mathbf{z}$\n",
    "\n",
    "Init topic indicators $\\mathbf{z}$ randomly per token<br>\n",
    "Init topic probability vector $\\mathbf{p}$<br>\n",
    "Init $\\mathbf{n}^{w}$, the topic type count matrix of size ($K \\times V$) with respect to $\\mathbf{z}$<br>\n",
    "Init $\\mathbf{n}^{d}$, the document topic count matrix of size ($D \\times K$) with respect to $\\mathbf{z}$<br>\n",
    "Init $\\mathbf{n}$, the topic count vector of length ($K$) with respect to $\\mathbf{z}$<br>\n",
    "\n",
    "for $g \\leftarrow 1$ __to__ _num_\\__iterations_ __do__<br>\n",
    "&emsp;&emsp;// Iterate over all tokens<br>\n",
    "&emsp;&emsp;for $i \\leftarrow 1$ __to__ $N$ __do__<br>\n",
    "&emsp;&emsp;&emsp;&emsp;// Remove current topic indicator $z_i$ from $\\mathbf{n}^{w}$, $\\mathbf{n}^{d}$ and $\\mathbf{n}$<br>\n",
    "&emsp;&emsp;&emsp;&emsp;$n^{(w)}_{z_i,w_i}$ -= 1, $n^{(d)}_{d_i,z_i}$ -= 1, $n_{z_i}$ -= 1<br>\n",
    "&emsp;&emsp;&emsp;&emsp;for $k \\leftarrow 1$ __to__ $K$ __do__<br>\n",
    "&emsp;&emsp;&emsp;&emsp;&emsp;&emsp;// Compute the unnormalized probability of each topic indicator<br>\n",
    "&emsp;&emsp;&emsp;&emsp;&emsp;&emsp;$\\mathbf{p}_k \\leftarrow \\left(\\alpha+n_{d,k}^{(d)}\\right)\\frac{\\left(\\beta+n_{k,w_{i}}^{(w)}\\right)}{\\left(V\\beta+n_{k}\\right)}$<br>\n",
    "&emsp;&emsp;&emsp;&emsp;__end__<br>\n",
    "&emsp;&emsp;&emsp;&emsp;// Sample the topic indicator<br>\n",
    "&emsp;&emsp;&emsp;&emsp;$z_i \\leftarrow $ Categorical($\\mathbf{p}$)<br>\n",
    "&emsp;&emsp;&emsp;&emsp;// Add the new topic indicator $z_i$ to $\\mathbf{n}^{w}$, $\\mathbf{n}^{d}$ and $\\mathbf{n}$<br>\n",
    "&emsp;&emsp;&emsp;&emsp;$n^{(w)}_{z_i,w_i}$ += 1, $n^{(d)}_{d_i,z_i}$ += 1, $n_{z_i}$ += 1<br>\n",
    "&emsp;&emsp;__end__<br>\n",
    "__end__"
   ]
  },
  {
   "cell_type": "markdown",
   "metadata": {},
   "source": [
    "For a complete derivation of the collapsed Gibbs sampler for LDA, see https://lingpipe.files.wordpress.com/2010/07/lda3.pdf."
   ]
  },
  {
   "cell_type": "code",
   "execution_count": 86,
   "metadata": {},
   "outputs": [],
   "source": [
    "import random, scipy.special\n",
    "import numpy as np\n",
    "from tm3 import LDAGibbs\n",
    "import matplotlib.pyplot as plt\n",
    "\n",
    "class MyGibbs(LDAGibbs):\n",
    "        \n",
    "    def __init__(self, num_topics, docs_file_name, stop_list_file_name = None):\n",
    "        self.num_topics = num_topics\n",
    "        self.num_docs = 0\n",
    "        self.docs = []\n",
    "        ## Prepare set of stop words\n",
    "        self.stop_words = set()\n",
    "        if stop_list_file_name != None:\n",
    "            with open(stop_list_file_name) as f:\n",
    "                for line in f:\n",
    "                    word = line.rstrip()\n",
    "                    self.stop_words.add(word)\n",
    "        self.read_documents(docs_file_name)\n",
    "        self.initialize_matrices()\n",
    "            \n",
    "    def read_documents(self, filename):\n",
    "        \"\"\"Reads documents from a file, filters stop words and initializes\n",
    "        the vocabulary. Also converts tokens to integer term IDs.\"\"\"\n",
    "        self.vocab = []\n",
    "        self.vocab_ids = {}\n",
    "        with open(filename) as f:\n",
    "            for line in f:\n",
    "                line = line.replace(\".\", \" \").replace(\",\", \" \").lower()\n",
    "                self.num_docs += 1\n",
    "                tokens = []\n",
    "                for w in line.split():\n",
    "                    if not w in self.stop_words:\n",
    "                        if w in self.vocab_ids:\n",
    "                            tokens.append(self.vocab_ids[w])\n",
    "                        else:\n",
    "                            term_id = len(self.vocab)\n",
    "                            self.vocab.append(w)\n",
    "                            self.vocab_ids[w] = term_id\n",
    "                            tokens.append(term_id)\n",
    "                self.docs.append({ 'tokens': tokens })\n",
    "        self.num_terms = len(self.vocab)\n",
    "        print(\"Read {} documents with a total of {} terms\".format(self.num_docs, self.num_terms))\n",
    "        \n",
    "    def initialize_matrices(self):\n",
    "        \"\"\"Initializes np arrays for the matrix computations performed\n",
    "        by the sampler during the MCMC process.\"\"\"\n",
    "        ## Set up np matrices\n",
    "        self.term_topics = np.zeros((self.num_terms, self.num_topics)) # n^w\n",
    "        self.doc_topics = np.zeros((self.num_docs, self.num_topics)) # n^d\n",
    "        self.topic_totals = np.zeros(self.num_topics) # n\n",
    "        self.doc_totals = np.zeros(self.num_docs)\n",
    "        ## Initialize topics randomly\n",
    "        for doc_id in range(self.num_docs):\n",
    "            doc = self.docs[doc_id]\n",
    "            ## Create an array of random topic assignments\n",
    "            doc['topics'] = [random.randrange(self.num_topics) for token in doc['tokens']]\n",
    "            ## Construct the initial summary statistics\n",
    "            doc_length = len(doc['tokens'])\n",
    "            for token, topic in zip(doc['tokens'], doc['topics']):\n",
    "                self.term_topics[token][topic] += 1 # n_wk\n",
    "                self.doc_topics[doc_id][topic] += 1 # n_dk\n",
    "                self.topic_totals[topic] += 1       # n_k\n",
    "                self.doc_totals[doc_id] += 1\n",
    "        ## Printout to check that everything is coherent\n",
    "        #print(sum(sum(self.doc_topics)))\n",
    "        #print(sum(sum(self.term_topics)))\n",
    "        #print(sum(self.topic_totals))\n",
    "        #print(sum(self.doc_totals))\n",
    "        \n",
    "    def run(self, num_iterations = 50, alpha = 0.1, beta = 0.01):\n",
    "        self.logprobs = []\n",
    "        for iteration in range(num_iterations): #iteration = 0\n",
    "            self.make_draw(alpha, beta)\n",
    "            logprob = self.compute_logprob(alpha, beta)\n",
    "            self.logprobs.append(logprob)\n",
    "            print(\"iteration {}, {}\".format(iteration, logprob))\n",
    "            \n",
    "    def make_draw(self, alpha, beta):\n",
    "        def unnorm_topic_prob(d, i, k):\n",
    "            return (alpha+self.doc_topics[d][k]) \\\n",
    "                *(beta+self.term_topics[i][k]) \\\n",
    "                /(self.num_terms*beta+self.topic_totals[k])\n",
    "        \n",
    "        for d in range(self.num_docs):\n",
    "            doc = self.docs[d]\n",
    "            \n",
    "            \n",
    "            #print(self.doc_topics[d][:])\n",
    "            \n",
    "            for idx, i, z in zip(range(len(doc['tokens'])), doc['tokens'], doc['topics']):\n",
    "                self.term_topics[i][z] -= 1\n",
    "                self.doc_topics[d][z] -= 1\n",
    "                self.topic_totals[z] -= 1\n",
    "                \n",
    "                assert(self.doc_topics[d][z] >= 0)\n",
    "                assert(self.term_topics[i][z] >= 0)\n",
    "                assert(self.topic_totals[z] >= 0)\n",
    "                \n",
    "                p = [unnorm_topic_prob(d, i, k) for k in range(self.num_topics)]\n",
    "                assert(all([x >= 0 for x in p]))\n",
    "                \n",
    "                if sum((p/np.sum(p))[:-1]) > 1.0:\n",
    "                    print(p)\n",
    "                    print((p/np.sum(p))[:-1])\n",
    "                zn = np.argmax(np.random.multinomial(1, p/np.sum(p)))\n",
    "                #print(zn)\n",
    "                \n",
    "                self.term_topics[i][zn] += 1\n",
    "                self.doc_topics[d][zn] += 1\n",
    "                self.topic_totals[zn] += 1\n",
    "                doc['topics'][idx] = zn\n",
    "                \n",
    "                \n",
    "                assert(self.doc_topics[d][zn] >= 1)\n",
    "                assert(self.term_topics[i][zn] >= 1)\n",
    "                assert(self.topic_totals[zn] >= 1)\n",
    "                \n",
    "                   \n",
    "       # print(sum(sum(self.doc_topics)))\n",
    "       # print(sum(sum(self.term_topics)))\n",
    "       # print(sum(self.topic_totals))\n",
    "       # print(sum(self.doc_totals))\n",
    "            \n",
    "    def make_draw2(self, alpha, beta):         \n",
    "        super().make_draw(alpha, beta)\n",
    "\n",
    "    def print_topics(self, j):\n",
    "        word_ixs = np.apply_along_axis(np.argsort, 0, self.term_topics)[:j]\n",
    "        words = [[self.vocab[i] for i in ixs]  for ixs in word_ixs.T]\n",
    "        for w in words:\n",
    "            print(w)\n",
    "        \n",
    "    def plot(self):\n",
    "        plt.plot(self.logprobs)\n",
    "    \n",
    "    def compute_logprob(self, alpha, beta):\n",
    "        ## TODO: implement this function for the bonus exercise\n",
    "        K = self.num_topics\n",
    "        V = self.num_terms\n",
    "        D = self.num_docs\n",
    "        n_w = self.term_topics\n",
    "        n_d = self.doc_topics\n",
    "        G = scipy.special.gammaln\n",
    "        \n",
    "        log_p = K * G(V*beta) - K*V*G(beta) + sum(sum(n_w + beta)) - sum(G(np.sum(n_w, axis=1) + beta))\\\n",
    "                + D * G(K * alpha) - D*K*G(alpha) + sum(sum(G(n_d + alpha))) - sum(G(np.sum(n_d, axis=0) + alpha))\n",
    "        \n",
    "        \n",
    "        return log_p#super().compute_logprob(alpha, beta)\n",
    "\n"
   ]
  },
  {
   "cell_type": "markdown",
   "metadata": {},
   "source": [
    "Implement the `make_draw` function above. You should get behavior very similar to the results from calling the parent class."
   ]
  },
  {
   "cell_type": "code",
   "execution_count": 87,
   "metadata": {
    "scrolled": true
   },
   "outputs": [
    {
     "name": "stdout",
     "output_type": "stream",
     "text": [
      "Read 2898 documents with a total of 8695 terms\n",
      "iteration 0, -1045834.2046106493\n",
      "iteration 1, -1030065.5008361139\n",
      "iteration 2, -1023214.1091451182\n",
      "iteration 3, -1019453.9713481141\n",
      "iteration 4, -1017184.497813598\n",
      "iteration 5, -1016017.2739204657\n",
      "iteration 6, -1014887.3636523634\n",
      "iteration 7, -1013708.9069045524\n",
      "iteration 8, -1012847.198701773\n",
      "iteration 9, -1012289.7161053208\n",
      "iteration 10, -1011036.8046771793\n",
      "iteration 11, -1011247.6762419308\n",
      "iteration 12, -1010874.481091289\n",
      "iteration 13, -1010293.9345568158\n",
      "iteration 14, -1009822.1432711374\n",
      "iteration 15, -1009426.6349622398\n",
      "iteration 16, -1009111.2151723083\n",
      "iteration 17, -1009190.7668198309\n",
      "iteration 18, -1008517.0304700066\n",
      "iteration 19, -1008202.5838024863\n",
      "iteration 20, -1007984.8348295756\n",
      "iteration 21, -1007655.4043992993\n",
      "iteration 22, -1007158.6979215147\n",
      "iteration 23, -1006646.7610423808\n",
      "iteration 24, -1006415.3932492337\n",
      "iteration 25, -1006229.1971565275\n",
      "iteration 26, -1005714.1917216582\n",
      "iteration 27, -1005297.0465545275\n",
      "iteration 28, -1005107.8488685997\n",
      "iteration 29, -1004745.7917710135\n",
      "iteration 30, -1004763.5045615458\n",
      "iteration 31, -1004875.1255909994\n",
      "iteration 32, -1004036.7673726028\n",
      "iteration 33, -1003650.2531840694\n",
      "iteration 34, -1003414.9351219775\n",
      "iteration 35, -1002973.5004270275\n",
      "iteration 36, -1002349.7888710889\n",
      "iteration 37, -1002005.8503454997\n",
      "iteration 38, -1001842.4917614138\n",
      "iteration 39, -1001610.9733411177\n",
      "iteration 40, -1001336.0902484297\n",
      "iteration 41, -1001846.3895743923\n",
      "iteration 42, -1001228.9909357044\n",
      "iteration 43, -1000895.5969650429\n",
      "iteration 44, -1000586.4469613794\n",
      "iteration 45, -1000132.8019956887\n",
      "iteration 46, -1000162.9614561195\n",
      "iteration 47, -1000050.9591376106\n",
      "iteration 48, -999237.9221683951\n",
      "iteration 49, -999434.1528589105\n",
      "iteration 50, -999720.7824684381\n",
      "iteration 51, -999388.5297480212\n",
      "iteration 52, -998904.2997789509\n",
      "iteration 53, -999074.5667086063\n",
      "iteration 54, -999112.4122290193\n",
      "iteration 55, -998757.4260803445\n",
      "iteration 56, -998182.5247265403\n",
      "iteration 57, -998495.1163020809\n",
      "iteration 58, -998558.898466682\n",
      "iteration 59, -998488.4313459971\n",
      "iteration 60, -998271.41526348\n",
      "iteration 61, -997785.6986197955\n",
      "iteration 62, -997444.3530549025\n",
      "iteration 63, -997475.7266021633\n",
      "iteration 64, -997259.7517464852\n",
      "iteration 65, -996964.8086754035\n",
      "iteration 66, -996923.701183141\n",
      "iteration 67, -996919.8550434078\n",
      "iteration 68, -996723.1944745482\n",
      "iteration 69, -996839.5177781321\n",
      "iteration 70, -996435.2224730911\n",
      "iteration 71, -996504.0990610013\n",
      "iteration 72, -996221.777977667\n",
      "iteration 73, -995808.8961043354\n",
      "iteration 74, -996068.107447332\n",
      "iteration 75, -995647.8273090343\n",
      "iteration 76, -995148.7710647044\n",
      "iteration 77, -995159.8904696471\n",
      "iteration 78, -995324.4043448023\n",
      "iteration 79, -995201.931142272\n",
      "iteration 80, -994886.0109905658\n",
      "iteration 81, -994778.6480887426\n",
      "iteration 82, -994658.3500976346\n",
      "iteration 83, -994540.3590528028\n",
      "iteration 84, -994686.1537674302\n",
      "iteration 85, -994719.6987799748\n",
      "iteration 86, -994495.1387294868\n",
      "iteration 87, -994902.4652492562\n",
      "iteration 88, -994593.6339173464\n",
      "iteration 89, -994565.6125705637\n",
      "iteration 90, -994622.9574816687\n",
      "iteration 91, -994255.7710844411\n",
      "iteration 92, -994451.132066346\n",
      "iteration 93, -994379.4708777228\n",
      "iteration 94, -994028.1577595345\n",
      "iteration 95, -994128.7058481998\n",
      "iteration 96, -993974.5045359797\n",
      "iteration 97, -993756.3078901342\n",
      "iteration 98, -993725.9761746963\n",
      "iteration 99, -993839.0121202422\n"
     ]
    }
   ],
   "source": [
    "num_topics = 10\n",
    "num_iterations = 100\n",
    "\n",
    "model = MyGibbs(num_topics, 'sotu_1975_2000.txt', 'stoplist_en.txt')\n",
    "model.run(num_iterations)"
   ]
  },
  {
   "cell_type": "markdown",
   "metadata": {},
   "source": [
    "### 2. Top terms\n",
    "Implement the `print_topics` function to extract the top `j` largest counts in $n(w)$ by row. This is the most probable word types in each topic."
   ]
  },
  {
   "cell_type": "code",
   "execution_count": 91,
   "metadata": {},
   "outputs": [
    {
     "name": "stdout",
     "output_type": "stream",
     "text": [
      "['mr', 'dreaming', 'reborn', 'thomases', 'doubting', 'handwringers', 'recoveries']\n",
      "['mr', 'insuperable', 'overcame', 'band', 'admiration', 'pain', 'instantly']\n",
      "['mr', 'uncomfortable', 'web', 'evergrowing', 'overlaid', 'risktaking', 'thrift']\n",
      "['endorsed', '$55', 'aren', 'overpayments', 'stamped', 'frozen', 'automatic']\n",
      "['mr', 'miracles', 'manmade', 'flowering', 'laboratories', 'unbearable', 'additionally']\n",
      "['mr', 'shadow', 'strategically', 'creates', 'misfortune', 'neglected', 'unrelenting']\n",
      "['mr', 'stimulants', 'tempered', 'impressive', 'upsurge', 'witnessing', 'whopping']\n",
      "['mr', 'caring', 'story', 'unfortunate', 'gathered', 'emptiness', 'bleak']\n",
      "['mr', 'meantime', 'disorders', 'tempered', 'impressive', 'upsurge', 'witnessing']\n",
      "['mr', 'tumbled', 'lenders', 'misspoke', 'factories', 'stepped', 'stalled']\n"
     ]
    }
   ],
   "source": [
    "model.print_topics(7)"
   ]
  },
  {
   "cell_type": "markdown",
   "metadata": {},
   "source": [
    "### 3. Explore the data\n",
    "\n",
    "Run your implemention on the State of the Union corpus until convergence with 10 topics, don't forget to remove stop words. Plot the log marginal posterior by the number of iterations. How many iterations do you need until convergence? How do you interpret the topics?\n",
    "\n",
    "[Hint: You can use the plot-function to print the marginal probability for each iteration. To get it working in Jupyter you need to run the command `%matplotlib inline` before plotting the first time.]"
   ]
  },
  {
   "cell_type": "code",
   "execution_count": 92,
   "metadata": {},
   "outputs": [
    {
     "data": {
      "image/png": "[encoded data removed]",
      "text/plain": [
       "<matplotlib.figure.Figure at 0x7f4dadd2d358>"
      ]
     },
     "metadata": {},
     "output_type": "display_data"
    }
   ],
   "source": [
    "%matplotlib inline\n",
    "model.plot()"
   ]
  },
  {
   "cell_type": "markdown",
   "metadata": {},
   "source": [
    "#### Answer here:\n",
    "\n",
    "`plt.plot(self.logprobs)`"
   ]
  },
  {
   "cell_type": "markdown",
   "metadata": {},
   "source": [
    "### 4. Simulate a new State of the Union speech\n",
    "\n",
    "Write a function `new_speech` using the `MyGibbs` class to use the estimated values for $\\Phi$ from your model (with stop words removed) to simulate a new State of the Union speech. Start out by simulating $\\theta_d \\sim Dir(\\alpha = 0.5)$ and then simulate your document. Does it make sense? Why, why not?"
   ]
  },
  {
   "cell_type": "code",
   "execution_count": 89,
   "metadata": {},
   "outputs": [],
   "source": [
    "def new_speech(model, alpha, num_words):\n",
    "    speech = []\n",
    "    alphas = \n",
    "    for d in range(model.num_docs):\n",
    "        theta_d = scipy.random.dirichlet(alpha)\n",
    "        doc = model.docs[d]\n",
    "        for n in doc['tokens']:\n",
    "            z_dn = np.argmax(scipy.random.multinomial(1, theta_d))\n",
    "            w_dn = np.argmax(scipy.random.multinomial(1, z_dn))\n",
    "            speech.append(w_dn)\n",
    "    \n",
    "    \n",
    "    \n",
    "    return \" \".join(speech)"
   ]
  },
  {
   "cell_type": "code",
   "execution_count": 90,
   "metadata": {},
   "outputs": [
    {
     "ename": "TypeError",
     "evalue": "object of type 'float' has no len()",
     "output_type": "error",
     "traceback": [
      "\u001b[0;31m---------------------------------------------------------------------------\u001b[0m",
      "\u001b[0;31mTypeError\u001b[0m                                 Traceback (most recent call last)",
      "\u001b[0;32m<ipython-input-90-f7a8ee39304f>\u001b[0m in \u001b[0;36m<module>\u001b[0;34m()\u001b[0m\n\u001b[0;32m----> 1\u001b[0;31m \u001b[0mnew_speech\u001b[0m\u001b[0;34m(\u001b[0m\u001b[0mmodel\u001b[0m\u001b[0;34m,\u001b[0m \u001b[0;36m0.5\u001b[0m\u001b[0;34m,\u001b[0m \u001b[0;36m100\u001b[0m\u001b[0;34m)\u001b[0m\u001b[0;34m\u001b[0m\u001b[0m\n\u001b[0m",
      "\u001b[0;32m<ipython-input-89-5e6b43d7c9f8>\u001b[0m in \u001b[0;36mnew_speech\u001b[0;34m(model, alpha, num_words)\u001b[0m\n\u001b[1;32m      2\u001b[0m     \u001b[0mspeech\u001b[0m \u001b[0;34m=\u001b[0m \u001b[0;34m[\u001b[0m\u001b[0;34m]\u001b[0m\u001b[0;34m\u001b[0m\u001b[0m\n\u001b[1;32m      3\u001b[0m     \u001b[0;32mfor\u001b[0m \u001b[0md\u001b[0m \u001b[0;32min\u001b[0m \u001b[0mrange\u001b[0m\u001b[0;34m(\u001b[0m\u001b[0mmodel\u001b[0m\u001b[0;34m.\u001b[0m\u001b[0mnum_docs\u001b[0m\u001b[0;34m)\u001b[0m\u001b[0;34m:\u001b[0m\u001b[0;34m\u001b[0m\u001b[0m\n\u001b[0;32m----> 4\u001b[0;31m         \u001b[0mtheta_d\u001b[0m \u001b[0;34m=\u001b[0m \u001b[0mscipy\u001b[0m\u001b[0;34m.\u001b[0m\u001b[0mrandom\u001b[0m\u001b[0;34m.\u001b[0m\u001b[0mdirichlet\u001b[0m\u001b[0;34m(\u001b[0m\u001b[0malpha\u001b[0m\u001b[0;34m)\u001b[0m\u001b[0;34m\u001b[0m\u001b[0m\n\u001b[0m\u001b[1;32m      5\u001b[0m         \u001b[0mdoc\u001b[0m \u001b[0;34m=\u001b[0m \u001b[0mmodel\u001b[0m\u001b[0;34m.\u001b[0m\u001b[0mdocs\u001b[0m\u001b[0;34m[\u001b[0m\u001b[0md\u001b[0m\u001b[0;34m]\u001b[0m\u001b[0;34m\u001b[0m\u001b[0m\n\u001b[1;32m      6\u001b[0m         \u001b[0;32mfor\u001b[0m \u001b[0mn\u001b[0m \u001b[0;32min\u001b[0m \u001b[0mdoc\u001b[0m\u001b[0;34m[\u001b[0m\u001b[0;34m'tokens'\u001b[0m\u001b[0;34m]\u001b[0m\u001b[0;34m:\u001b[0m\u001b[0;34m\u001b[0m\u001b[0m\n",
      "\u001b[0;32mmtrand.pyx\u001b[0m in \u001b[0;36mmtrand.RandomState.dirichlet\u001b[0;34m()\u001b[0m\n",
      "\u001b[0;31mTypeError\u001b[0m: object of type 'float' has no len()"
     ]
    }
   ],
   "source": [
    "new_speech(model, 0.5, 100)"
   ]
  },
  {
   "cell_type": "markdown",
   "metadata": {},
   "source": [
    "#### Answer here:"
   ]
  },
  {
   "cell_type": "markdown",
   "metadata": {},
   "source": [
    "### Bonus assignment:\n",
    "\n",
    "To get better understanding how to implement the underlying model or similar models, you might want to implement your own function to compute the log marginal posterior. If so, implement the `compute_logprob` function.\n",
    "\n",
    "$$\\begin{align}\n",
    "\\log p(\\mathbf{z}|\\mathbf{w}) =& \\log\\prod^{K}p(\\mathbf{w}|\\mathbf{z},\\beta)\\prod^{D}p(\\mathbf{z}|\\alpha) \\\\\n",
    "=& \\sum^{K}\\log\\left[\\frac{\\Gamma\\left(\\sum^{V}\\beta\\right)}{\\prod^{V}\\Gamma\\left(\\beta\\right)}\\frac{\\prod^{V}\\Gamma\\left(n_{kv}^{(w)}+\\beta\\right)}{\\Gamma(\\sum^{V}n_{kv}^{(w)}+\\beta)}\\right]+\\sum^{D}\\log\\left[\\frac{\\Gamma\\left(\\sum^{K}\\alpha\\right)}{\\prod^{K}\\Gamma\\left(\\alpha\\right)}\\frac{\\prod^{K}\\Gamma\\left(n_{dk}^{(d)}+\\alpha\\right)}{\\Gamma(\\sum^{K}n_{dk}^{(d)}+\\alpha)}\\right] \\\\\n",
    "=& K\\log\\Gamma\\left(V\\beta\\right)-KV\\log\\Gamma\\left(\\beta\\right)+\\sum^{K}\\sum^{V}\\log\\Gamma\\left(n_{kv}^{(w)}+\\beta\\right)-\\sum^{K}\\log\\Gamma(\\sum^{V}n_{kv}^{(w)}+\\beta)\\\\\n",
    "&+ D\\log\\Gamma\\left(K\\alpha\\right)-DK\\log\\Gamma\\left(\\alpha\\right)+\\sum^{D}\\sum^{K}\\log\\Gamma\\left(n_{dk}^{(d)}+\\alpha\\right)-\\sum^{D}\\log\\Gamma(\\sum^{K}n_{dk}^{(d)}+\\alpha)\n",
    "\\end{align}$$\n",
    "\n",
    "In Python, use `scipy.special.gammaln` for $\\log\\Gamma(x)$ (if you run into problems, you might try `math.lgamma` instead)."
   ]
  }
 ],
 "metadata": {
  "kernelspec": {
   "display_name": "Python 3",
   "language": "python",
   "name": "python3"
  },
  "language_info": {
   "codemirror_mode": {
    "name": "ipython",
    "version": 3
   },
   "file_extension": ".py",
   "mimetype": "text/x-python",
   "name": "python",
   "nbconvert_exporter": "python",
   "pygments_lexer": "ipython3",
   "version": "3.4.3"
  },
  "latex_envs": {
   "bibliofile": "biblio.bib",
   "cite_by": "apalike",
   "current_citInitial": 1,
   "eqLabelWithNumbers": true,
   "eqNumInitial": 0
  }
 },
 "nbformat": 4,
 "nbformat_minor": 2
}
