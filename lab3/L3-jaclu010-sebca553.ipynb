{
 "cells": [
  {
   "cell_type": "markdown",
   "metadata": {},
   "source": [
    "# L3: Topic Models\n",
    "### 732A92/TDDE16 Text Mining\n",
    "MÃ¥ns Magnusson"
   ]
  },
  {
   "cell_type": "markdown",
   "metadata": {},
   "source": [
    "The purpose of this lab is to implement the standard Gibbs sampling algorithm for Latent Dirichlet Allocation in Python. You will be supplied starter code, a smaller corpus with State of the Union addresses for the period 1975 to 2000 by paragraph and a list with English stop words. The code is implemented as a class, `LDAGibbs`, where you are expected to replace central parts of the code with your own implementations."
   ]
  },
  {
   "cell_type": "markdown",
   "metadata": {},
   "source": [
    "### 1. Sampling\n",
    "\n",
    "Implement the basic collapsed Gibbs sampling algorithm for Latent Dirichlet Allocation. Use the starter code and add the components that is missing (the sampler part). We use the fact that \n",
    "\n",
    "$$p(z_{i}=k)\\propto\\left(\\alpha+n_{d,k}^{(d)}\\right)\\frac{\\left(\\beta+n_{k,w_{i}}^{(w)}\\right)}{\\sum^{V}\\left(\\beta+n_{k,w_{i}}^{(w)}\\right)}=\\left(\\alpha+n_{d,k}^{(d)}\\right)\\frac{\\left(\\beta+n_{k,w_{i}}^{(w)}\\right)}{V\\beta+n_{k}}$$\n",
    "\n",
    "to simplify computations, where $K$ is the number of topics, $V$ is the vocabulary size and $D$ is the number of documents. $\\mathbf{n}^{(d)}$ is a count matrix of size $D\\times K$ with the number of topic indicators by document, $d$, and topic $k$, $\\mathbf{n}^{(w)}$ is a count matrix of size $K\\times V$ with the number of topic indicators by topic, $k$, and word type, $w$. $\\mathbf{n}$ is a topic indicator count vector of length $K$ that contain the number of topic indicators in each topic. The detailed algorithm can be found below:"
   ]
  },
  {
   "cell_type": "markdown",
   "metadata": {},
   "source": [
    "__Data:__ tokenized corpus $\\mathbf{w}$, priors $\\alpha, \\beta$ <br>\n",
    "__Result:__ topic indicators $\\mathbf{z}$\n",
    "\n",
    "Init topic indicators $\\mathbf{z}$ randomly per token<br>\n",
    "Init topic probability vector $\\mathbf{p}$<br>\n",
    "Init $\\mathbf{n}^{w}$, the topic type count matrix of size ($K \\times V$) with respect to $\\mathbf{z}$<br>\n",
    "Init $\\mathbf{n}^{d}$, the document topic count matrix of size ($D \\times K$) with respect to $\\mathbf{z}$<br>\n",
    "Init $\\mathbf{n}$, the topic count vector of length ($K$) with respect to $\\mathbf{z}$<br>\n",
    "\n",
    "for $g \\leftarrow 1$ __to__ _num_\\__iterations_ __do__<br>\n",
    "&emsp;&emsp;// Iterate over all tokens<br>\n",
    "&emsp;&emsp;for $i \\leftarrow 1$ __to__ $N$ __do__<br>\n",
    "&emsp;&emsp;&emsp;&emsp;// Remove current topic indicator $z_i$ from $\\mathbf{n}^{w}$, $\\mathbf{n}^{d}$ and $\\mathbf{n}$<br>\n",
    "&emsp;&emsp;&emsp;&emsp;$n^{(w)}_{z_i,w_i}$ -= 1, $n^{(d)}_{d_i,z_i}$ -= 1, $n_{z_i}$ -= 1<br>\n",
    "&emsp;&emsp;&emsp;&emsp;for $k \\leftarrow 1$ __to__ $K$ __do__<br>\n",
    "&emsp;&emsp;&emsp;&emsp;&emsp;&emsp;// Compute the unnormalized probability of each topic indicator<br>\n",
    "&emsp;&emsp;&emsp;&emsp;&emsp;&emsp;$\\mathbf{p}_k \\leftarrow \\left(\\alpha+n_{d,k}^{(d)}\\right)\\frac{\\left(\\beta+n_{k,w_{i}}^{(w)}\\right)}{\\left(V\\beta+n_{k}\\right)}$<br>\n",
    "&emsp;&emsp;&emsp;&emsp;__end__<br>\n",
    "&emsp;&emsp;&emsp;&emsp;// Sample the topic indicator<br>\n",
    "&emsp;&emsp;&emsp;&emsp;$z_i \\leftarrow $ Categorical($\\mathbf{p}$)<br>\n",
    "&emsp;&emsp;&emsp;&emsp;// Add the new topic indicator $z_i$ to $\\mathbf{n}^{w}$, $\\mathbf{n}^{d}$ and $\\mathbf{n}$<br>\n",
    "&emsp;&emsp;&emsp;&emsp;$n^{(w)}_{z_i,w_i}$ += 1, $n^{(d)}_{d_i,z_i}$ += 1, $n_{z_i}$ += 1<br>\n",
    "&emsp;&emsp;__end__<br>\n",
    "__end__"
   ]
  },
  {
   "cell_type": "markdown",
   "metadata": {},
   "source": [
    "For a complete derivation of the collapsed Gibbs sampler for LDA, see https://lingpipe.files.wordpress.com/2010/07/lda3.pdf."
   ]
  },
  {
   "cell_type": "code",
   "execution_count": 1,
   "metadata": {},
   "outputs": [],
   "source": [
    "import random, scipy.special\n",
    "import numpy as np\n",
    "from tm3 import LDAGibbs\n",
    "import matplotlib.pyplot as plt\n",
    "\n",
    "class MyGibbs(LDAGibbs):\n",
    "        \n",
    "    def __init__(self, num_topics, docs_file_name, stop_list_file_name = None):\n",
    "        self.num_topics = num_topics\n",
    "        self.num_docs = 0\n",
    "        self.docs = []\n",
    "        ## Prepare set of stop words\n",
    "        self.stop_words = set()\n",
    "        if stop_list_file_name != None:\n",
    "            with open(stop_list_file_name) as f:\n",
    "                for line in f:\n",
    "                    word = line.rstrip()\n",
    "                    self.stop_words.add(word)\n",
    "        self.read_documents(docs_file_name)\n",
    "        self.initialize_matrices()\n",
    "            \n",
    "    def read_documents(self, filename):\n",
    "        \"\"\"Reads documents from a file, filters stop words and initializes\n",
    "        the vocabulary. Also converts tokens to integer term IDs.\"\"\"\n",
    "        self.vocab = []\n",
    "        self.vocab_ids = {}\n",
    "        with open(filename) as f:\n",
    "            for line in f:\n",
    "                line = line.replace(\".\", \" \").replace(\",\", \" \").lower()\n",
    "                self.num_docs += 1\n",
    "                tokens = []\n",
    "                for w in line.split():\n",
    "                    if not w in self.stop_words:\n",
    "                        if w in self.vocab_ids:\n",
    "                            tokens.append(self.vocab_ids[w])\n",
    "                        else:\n",
    "                            term_id = len(self.vocab)\n",
    "                            self.vocab.append(w)\n",
    "                            self.vocab_ids[w] = term_id\n",
    "                            tokens.append(term_id)\n",
    "                self.docs.append({ 'tokens': tokens })\n",
    "        self.num_terms = len(self.vocab)\n",
    "        print(\"Read {} documents with a total of {} terms\".format(self.num_docs, self.num_terms))\n",
    "        \n",
    "    def initialize_matrices(self):\n",
    "        \"\"\"Initializes np arrays for the matrix computations performed\n",
    "        by the sampler during the MCMC process.\"\"\"\n",
    "        ## Set up np matrices\n",
    "        self.term_topics = np.zeros((self.num_terms, self.num_topics)) # n^w\n",
    "        self.doc_topics = np.zeros((self.num_docs, self.num_topics)) # n^d\n",
    "        self.topic_totals = np.zeros(self.num_topics) # n\n",
    "        self.doc_totals = np.zeros(self.num_docs)\n",
    "        ## Initialize topics randomly\n",
    "        for doc_id in range(self.num_docs):\n",
    "            doc = self.docs[doc_id]\n",
    "            ## Create an array of random topic assignments\n",
    "            doc['topics'] = [random.randrange(self.num_topics) for token in doc['tokens']]\n",
    "            ## Construct the initial summary statistics\n",
    "            doc_length = len(doc['tokens'])\n",
    "            for token, topic in zip(doc['tokens'], doc['topics']):\n",
    "                self.term_topics[token][topic] += 1 # n_wk\n",
    "                self.doc_topics[doc_id][topic] += 1 # n_dk\n",
    "                self.topic_totals[topic] += 1       # n_k\n",
    "                self.doc_totals[doc_id] += 1\n",
    "        ## Printout to check that everything is coherent\n",
    "        #print(sum(sum(self.doc_topics)))\n",
    "        #print(sum(sum(self.term_topics)))\n",
    "        #print(sum(self.topic_totals))\n",
    "        #print(sum(self.doc_totals))\n",
    "        \n",
    "    def run(self, num_iterations = 50, alpha = 0.1, beta = 0.01):\n",
    "        self.logprobs = []\n",
    "        for iteration in range(num_iterations): #iteration = 0\n",
    "            self.make_draw(alpha, beta)\n",
    "            logprob = self.compute_logprob(alpha, beta)\n",
    "            self.logprobs.append(logprob)\n",
    "            print(\"iteration {}, {}\".format(iteration, logprob))\n",
    "            \n",
    "    def make_draw(self, alpha, beta):\n",
    "        def unnorm_topic_prob(d, i, k):\n",
    "            return (alpha+self.doc_topics[d][k]) \\\n",
    "                *(beta+self.term_topics[i][k]) \\\n",
    "                /(self.num_terms*beta+self.topic_totals[k])\n",
    "        \n",
    "        for d in range(self.num_docs):\n",
    "            doc = self.docs[d]\n",
    "            \n",
    "            \n",
    "            #print(self.doc_topics[d][:])\n",
    "            \n",
    "            for idx, i, z in zip(range(len(doc['tokens'])), doc['tokens'], doc['topics']):\n",
    "                self.term_topics[i][z] -= 1\n",
    "                self.doc_topics[d][z] -= 1\n",
    "                self.topic_totals[z] -= 1\n",
    "                \n",
    "                assert(self.doc_topics[d][z] >= 0)\n",
    "                assert(self.term_topics[i][z] >= 0)\n",
    "                assert(self.topic_totals[z] >= 0)\n",
    "                \n",
    "                p = [unnorm_topic_prob(d, i, k) for k in range(self.num_topics)]\n",
    "                assert(all([x >= 0 for x in p]))\n",
    "                \n",
    "                if sum((p/np.sum(p))[:-1]) > 1.0:\n",
    "                    print(p)\n",
    "                    print((p/np.sum(p))[:-1])\n",
    "                zn = np.argmax(np.random.multinomial(1, p/np.sum(p)))\n",
    "                #print(zn)\n",
    "                \n",
    "                self.term_topics[i][zn] += 1\n",
    "                self.doc_topics[d][zn] += 1\n",
    "                self.topic_totals[zn] += 1\n",
    "                doc['topics'][idx] = zn\n",
    "                \n",
    "                \n",
    "                assert(self.doc_topics[d][zn] >= 1)\n",
    "                assert(self.term_topics[i][zn] >= 1)\n",
    "                assert(self.topic_totals[zn] >= 1)\n",
    "                \n",
    "                   \n",
    "       # print(sum(sum(self.doc_topics)))\n",
    "       # print(sum(sum(self.term_topics)))\n",
    "       # print(sum(self.topic_totals))\n",
    "       # print(sum(self.doc_totals))\n",
    "            \n",
    "    def make_draw2(self, alpha, beta):         \n",
    "        super().make_draw(alpha, beta)\n",
    "\n",
    "    def print_topics(self, j):\n",
    "        word_ixs = np.apply_along_axis(np.argsort, 0, self.term_topics)[:j]\n",
    "        words = [[self.vocab[i] for i in ixs]  for ixs in word_ixs.T]\n",
    "        for w in words:\n",
    "            print(w)\n",
    "        \n",
    "    def plot(self):\n",
    "        plt.plot(self.logprobs)\n",
    "    \n",
    "    def compute_logprob(self, alpha, beta):\n",
    "        ## TODO: implement this function for the bonus exercise\n",
    "        K = self.num_topics\n",
    "        V = self.num_terms\n",
    "        D = self.num_docs\n",
    "        n_w = self.term_topics\n",
    "        n_d = self.doc_topics\n",
    "        G = scipy.special.gammaln\n",
    "        \n",
    "        log_p = K * G(V*beta) - K*V*G(beta) + sum(sum(n_w + beta)) - sum(G(np.sum(n_w, axis=1) + beta))\\\n",
    "                + D * G(K * alpha) - D*K*G(alpha) + sum(sum(G(n_d + alpha))) - sum(G(np.sum(n_d, axis=0) + alpha))\n",
    "        \n",
    "        \n",
    "        return log_p#super().compute_logprob(alpha, beta)\n",
    "\n"
   ]
  },
  {
   "cell_type": "markdown",
   "metadata": {},
   "source": [
    "Implement the `make_draw` function above. You should get behavior very similar to the results from calling the parent class."
   ]
  },
  {
   "cell_type": "code",
   "execution_count": 34,
   "metadata": {
    "scrolled": true
   },
   "outputs": [
    {
     "name": "stdout",
     "output_type": "stream",
     "text": [
      "Read 2898 documents with a total of 8695 terms\n",
      "iteration 0, -1045924.4464249336\n",
      "iteration 1, -1030449.2627064575\n",
      "iteration 2, -1022775.4548037557\n",
      "iteration 3, -1019097.664614097\n",
      "iteration 4, -1017167.0066567367\n",
      "iteration 5, -1015687.090817853\n",
      "iteration 6, -1014917.0309758709\n",
      "iteration 7, -1013981.3597109024\n",
      "iteration 8, -1013316.9681000124\n",
      "iteration 9, -1012715.3882875115\n",
      "iteration 10, -1012143.1884851942\n",
      "iteration 11, -1011901.7181896373\n",
      "iteration 12, -1011795.7041541089\n",
      "iteration 13, -1011193.9878220452\n",
      "iteration 14, -1010170.2766474235\n",
      "iteration 15, -1010062.191978713\n",
      "iteration 16, -1009752.4663383409\n",
      "iteration 17, -1009341.066713891\n",
      "iteration 18, -1008762.1565520766\n",
      "iteration 19, -1008539.5485638255\n",
      "iteration 20, -1008181.2490873095\n",
      "iteration 21, -1008045.9356316153\n",
      "iteration 22, -1007562.2772321866\n",
      "iteration 23, -1007225.0489635568\n",
      "iteration 24, -1006870.2676141189\n",
      "iteration 25, -1006829.5331520308\n",
      "iteration 26, -1006292.1708701132\n",
      "iteration 27, -1006213.3363805958\n",
      "iteration 28, -1005807.916180821\n",
      "iteration 29, -1005343.2508223079\n",
      "iteration 30, -1005389.7918741888\n",
      "iteration 31, -1005133.0967148133\n",
      "iteration 32, -1004711.8585533272\n",
      "iteration 33, -1004609.2715522242\n",
      "iteration 34, -1004295.6366222572\n",
      "iteration 35, -1004363.3017295809\n",
      "iteration 36, -1003983.8604429343\n",
      "iteration 37, -1003549.1182722708\n",
      "iteration 38, -1003137.3374148407\n",
      "iteration 39, -1003296.8464193247\n",
      "iteration 40, -1002543.1816034187\n",
      "iteration 41, -1002388.370960493\n",
      "iteration 42, -1002231.2220059782\n",
      "iteration 43, -1001971.9581670786\n",
      "iteration 44, -1002043.3028959786\n",
      "iteration 45, -1001402.3814016033\n",
      "iteration 46, -1001480.2623337418\n",
      "iteration 47, -1001594.3136940406\n",
      "iteration 48, -1001423.6806586871\n",
      "iteration 49, -1000870.4375225325\n"
     ]
    }
   ],
   "source": [
    "num_topics = 10\n",
    "num_iterations = 50\n",
    "\n",
    "model = MyGibbs(num_topics, 'sotu_1975_2000.txt', 'stoplist_en.txt')\n",
    "model.run(num_iterations)"
   ]
  },
  {
   "cell_type": "markdown",
   "metadata": {},
   "source": [
    "### 2. Top terms\n",
    "Implement the `print_topics` function to extract the top `j` largest counts in $n(w)$ by row. This is the most probable word types in each topic."
   ]
  },
  {
   "cell_type": "code",
   "execution_count": 35,
   "metadata": {},
   "outputs": [
    {
     "name": "stdout",
     "output_type": "stream",
     "text": [
      "['mr', 'dealings', 'delusion', 'naivete', 'signal', 'disorder', 'shadow']\n",
      "['mr', 'wheels', 'paper', 'reading', 'generous', 'rallied', 'corner']\n",
      "['mr', 'peacemakers', 'bipartisanship', 'mx', 'supplied', 'fails', 'redeems']\n",
      "['mr', 'belong', 'proceeds', 'apply', 'grass', 'simultaneously', 'swap']\n",
      "['mr', 'computers', 'pioneered', 'miracles', 'manmade', 'flowering', 'laboratories']\n",
      "['mr', 'chips', 'silicon', 'manmade', 'flowering', 'laboratories', 'unbearable']\n",
      "['mr', 'adjustments', 'guiding', 'conquering', 'cents', 'uncontrolled', 'fraction']\n",
      "['mr', 'thomas', 'flame', 'storm', 'weathered', 'believing', 'vanquished']\n",
      "['mr', 'caring', 'story', 'unfortunate', 'gathered', 'emptiness', 'bleak']\n",
      "['endorsed', 'push', 'beaten', 'crushing', 'crusade', 'foe', 'friend']\n"
     ]
    }
   ],
   "source": [
    "model.print_topics(7)"
   ]
  },
  {
   "cell_type": "markdown",
   "metadata": {},
   "source": [
    "### 3. Explore the data\n",
    "\n",
    "Run your implemention on the State of the Union corpus until convergence with 10 topics, don't forget to remove stop words. Plot the log marginal posterior by the number of iterations. How many iterations do you need until convergence? How do you interpret the topics?\n",
    "\n",
    "[Hint: You can use the plot-function to print the marginal probability for each iteration. To get it working in Jupyter you need to run the command `%matplotlib inline` before plotting the first time.]"
   ]
  },
  {
   "cell_type": "code",
   "execution_count": 36,
   "metadata": {},
   "outputs": [
    {
     "data": {
      "image/png": "[encoded data removed]",
      "text/plain": [
       "<matplotlib.figure.Figure at 0x7fc749e634a8>"
      ]
     },
     "metadata": {},
     "output_type": "display_data"
    }
   ],
   "source": [
    "%matplotlib inline\n",
    "model.plot()"
   ]
  },
  {
   "cell_type": "markdown",
   "metadata": {},
   "source": [
    "#### Answer here:\n",
    "\n",
    "`plt.plot(self.logprobs)`"
   ]
  },
  {
   "cell_type": "markdown",
   "metadata": {},
   "source": [
    "### 4. Simulate a new State of the Union speech\n",
    "\n",
    "Write a function `new_speech` using the `MyGibbs` class to use the estimated values for $\\Phi$ from your model (with stop words removed) to simulate a new State of the Union speech. Start out by simulating $\\theta_d \\sim Dir(\\alpha = 0.5)$ and then simulate your document. Does it make sense? Why, why not?"
   ]
  },
  {
   "cell_type": "code",
   "execution_count": 37,
   "metadata": {},
   "outputs": [],
   "source": [
    "def new_speech(model, alpha, num_words):\n",
    "    speech = []\n",
    "    alpha = [alpha for x in range(model.num_docs)]\n",
    "\n",
    "    for i in range(num_words):\n",
    "        theta_d = scipy.random.dirichlet(alpha)\n",
    "        \n",
    "        z_dn = np.argmax(scipy.random.multinomial(1, theta_d))\n",
    "        beta_z = model.term_topics[:][z_dn]\n",
    "        w_dn = np.argmax(scipy.random.multinomial(1, beta_z/sum(beta_z)))\n",
    "        speech.append(model.vocab[w_dn])\n",
    "        \n",
    "    return \" \".join(speech)"
   ]
  },
  {
   "cell_type": "code",
   "execution_count": 38,
   "metadata": {},
   "outputs": [
    {
     "data": {
      "text/plain": [
       "'members vice twenty members members speaker president guests 94th members president guests 94th mr 94th twenty president 94th members 94th vice 94th members congress vice mr members 94th 94th 94th speaker twenty twenty speaker guests congress president twenty speaker congress mr speaker mr vice guests distinguished mr distinguished members guests mr president congress twenty twenty president speaker vice guests twenty members guests guests members 94th guests guests congress congress members vice vice vice guests members guests speaker speaker mr mr members twenty vice guests members distinguished congress guests twenty guests guests members 94th speaker vice president 94th guests vice guests'"
      ]
     },
     "execution_count": 38,
     "metadata": {},
     "output_type": "execute_result"
    }
   ],
   "source": [
    "new_speech(model, 0.5, 100)"
   ]
  },
  {
   "cell_type": "markdown",
   "metadata": {},
   "source": [
    "#### Answer here:\n",
    "First of all we are missing stop words, meaning that the sentence will lack some structure. Also, the model does not caputure structures such as sentences since the model looks at the most frequent words."
   ]
  },
  {
   "cell_type": "markdown",
   "metadata": {},
   "source": [
    "### Bonus assignment:\n",
    "\n",
    "To get better understanding how to implement the underlying model or similar models, you might want to implement your own function to compute the log marginal posterior. If so, implement the `compute_logprob` function.\n",
    "\n",
    "$$\\begin{align}\n",
    "\\log p(\\mathbf{z}|\\mathbf{w}) =& \\log\\prod^{K}p(\\mathbf{w}|\\mathbf{z},\\beta)\\prod^{D}p(\\mathbf{z}|\\alpha) \\\\\n",
    "=& \\sum^{K}\\log\\left[\\frac{\\Gamma\\left(\\sum^{V}\\beta\\right)}{\\prod^{V}\\Gamma\\left(\\beta\\right)}\\frac{\\prod^{V}\\Gamma\\left(n_{kv}^{(w)}+\\beta\\right)}{\\Gamma(\\sum^{V}n_{kv}^{(w)}+\\beta)}\\right]+\\sum^{D}\\log\\left[\\frac{\\Gamma\\left(\\sum^{K}\\alpha\\right)}{\\prod^{K}\\Gamma\\left(\\alpha\\right)}\\frac{\\prod^{K}\\Gamma\\left(n_{dk}^{(d)}+\\alpha\\right)}{\\Gamma(\\sum^{K}n_{dk}^{(d)}+\\alpha)}\\right] \\\\\n",
    "=& K\\log\\Gamma\\left(V\\beta\\right)-KV\\log\\Gamma\\left(\\beta\\right)+\\sum^{K}\\sum^{V}\\log\\Gamma\\left(n_{kv}^{(w)}+\\beta\\right)-\\sum^{K}\\log\\Gamma(\\sum^{V}n_{kv}^{(w)}+\\beta)\\\\\n",
    "&+ D\\log\\Gamma\\left(K\\alpha\\right)-DK\\log\\Gamma\\left(\\alpha\\right)+\\sum^{D}\\sum^{K}\\log\\Gamma\\left(n_{dk}^{(d)}+\\alpha\\right)-\\sum^{D}\\log\\Gamma(\\sum^{K}n_{dk}^{(d)}+\\alpha)\n",
    "\\end{align}$$\n",
    "\n",
    "In Python, use `scipy.special.gammaln` for $\\log\\Gamma(x)$ (if you run into problems, you might try `math.lgamma` instead)."
   ]
  }
 ],
 "metadata": {
  "kernelspec": {
   "display_name": "Python 3",
   "language": "python",
   "name": "python3"
  },
  "language_info": {
   "codemirror_mode": {
    "name": "ipython",
    "version": 3
   },
   "file_extension": ".py",
   "mimetype": "text/x-python",
   "name": "python",
   "nbconvert_exporter": "python",
   "pygments_lexer": "ipython3",
   "version": "3.4.3"
  },
  "latex_envs": {
   "bibliofile": "biblio.bib",
   "cite_by": "apalike",
   "current_citInitial": 1,
   "eqLabelWithNumbers": true,
   "eqNumInitial": 0
  }
 },
 "nbformat": 4,
 "nbformat_minor": 2
}
